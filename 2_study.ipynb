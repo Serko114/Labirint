{
 "cells": [
  {
   "cell_type": "code",
   "execution_count": 1,
   "id": "42ee0b69",
   "metadata": {},
   "outputs": [],
   "source": [
    "import gymnasium as gym\n",
    "import gym as g\n",
    "import json\n",
    "import torch\n",
    "from gymnasium.wrappers import RescaleAction\n",
    "# gym.make('FrozenLake-v1')"
   ]
  },
  {
   "cell_type": "code",
   "execution_count": 2,
   "id": "4573eab8",
   "metadata": {},
   "outputs": [
    {
     "name": "stdout",
     "output_type": "stream",
     "text": [
      "100\n"
     ]
    }
   ],
   "source": [
    "# загрузка данных из файла area.txt\n",
    "area = []\n",
    "\n",
    "# open file and read the content in a list\n",
    "with open(r'area.txt', 'r') as fp:\n",
    "    for line in fp:\n",
    "        # remove linebreak from a current name\n",
    "        # linebreak is the last character of each line\n",
    "        x = line[:-1]\n",
    "\n",
    "        # add current item to the list\n",
    "        area.append(x)\n",
    "\n",
    "# display list\n",
    "print(len(area))"
   ]
  },
  {
   "cell_type": "code",
   "execution_count": 3,
   "id": "808e7d83",
   "metadata": {},
   "outputs": [
    {
     "data": {
      "text/plain": [
       "['HHHHHHHHHHHHHHHHHHHHHHHHHHHHHHHHHHHHHHHHHHHHHHHHHHHHHHHHHHHHHHHHHHHHHHHHHHHHHHHHHHHHHHHHHHHHHHHHHHHH',\n",
       " 'HHHHHHHHHHHHHHHHHHHHHHHHHHHHHHHHHHHHHHHHHHHHHHHHHHHHHHHHHHHHHHHHHHHHHHHHHHHHHHHHHHHHHHHHHHHHHHHHHHHH',\n",
       " 'HHFFFFFFFFFFFFFFFFFFFFFFFFFFFFFFFFFFFFFFHHHHFFFFFFFFFFFFFFFFFFFFFFFFFFFFFFFFFFFFFFFFFFFFFFFFFFFFFFFH',\n",
       " 'HHFFFFFFFFFFFFFFFFFFFFFFFFFFFFFFFFFFFFFFHHHHFFFFFFFFFFFFFFFFFFFFFFFFFFFFFFFFFFFFFFFFFFFFFFFFFFFFFFFH',\n",
       " 'HHFFFFFFFFFFFFFFFFFFFFFFFFFFFFFFFFFFFFFFHHHHFFFFFFFFFFFFFFFFFFFFFFFFFFFFFFFFFFFFFFFFFFFFFFFFFFFFFFFH',\n",
       " 'HHFFFFFFFFFFFFFFFFFFFFFFFFFFFFFFFFFFFFFFHHHHFFFFFFFFFFFFFFFFFFFFFFFFFFFFFFFFFFFFFFFFFFFFFGGGGGGFFFFH',\n",
       " 'HHFFFFFFFFFFFFFFFFFFFFFFFFFFFFFFFFFFFFFFHHHHFFFFFFFFFFFFFFFFFFFFFFFFFFFFFFFFFFFFFFFFFFFFFGGGGGGFFFFH',\n",
       " 'HHFFFFFFFFFFFFFFFFFFFFFFFFFFFFFFFFFFFFFFHHHHFFFFFFFFFFFFFFFFFFHHHFFFFFFFFFFFFFFFFFFFFFFFFGGGGGGFFFFH',\n",
       " 'HHFFFFFFFFFFFFFFFFFFFFFFFFFFFFFFFFFFFFFFHHHHFFFFFFFFFFFFFFFFFFHHHFFFFFFFFFFFFFFFFFFFFFFFFGGGGGGFFFFH',\n",
       " 'HHFFFFFFFFFFFFFFFFFFFFFFFFFFFFFFFFFFFFFFHHHHFFFFFFFFFFFFFFFFFFHHHFFFFFFFFFFFFFFFFFFFFFFFFGGGGGGFFFFH',\n",
       " 'HHFFFFFFFFFFFFFFFFFFFFFFFFFFFFFFFFFFFFFFHHHHFFFFFFFFFFFFFFFFFFHHHFFFFFFFFFFFFFFFFFFFFFFFFGGGGGGFFFFH',\n",
       " 'HHFFFFFFFFFFFFFFFFFFFFFFFFFFFFFFFFFFFFFFHHHHFFFFFFFFFFFFFFFFFFHHHFFFFFFFFFFFFFFFFFFFFFFFFGGGGGGFFFFH',\n",
       " 'HHFFFFFFFFFFFFFFFFFFFFFFFFFFFFFFFFFFFFFFHHHHFFFFFFFFFFFFFFFFFFHHHFFFFFFFFFFFFFFFFFFFFFFFFGGGGGGFFFFH',\n",
       " 'HHFFFFFFFFFFFFFFFFFFFFFFFFFFFFFFFFFFFFFFHHHHFFFFFFFFFFFFFFFFFFHHHFFFFFFFFFFFFFFFFFFFFFFFFGGGGGGFFFFH',\n",
       " 'HHFFFFFFFFFFFFFFFFFFFFFFFFFFFFFFFFFFFFFFHHHHFFFFFFFFFFFFFFFFFFHHHFFFFFFFFFFFFFFFFFFFFFFFFGGGGGGFFFFH',\n",
       " 'HHFFFFFFFFFFFFFFFFFFFFFFFFFFFFFFFFFFFFFFHHHHFFFFFFFFFFFFFFFFFFHHHFFFFFFFFFFFFFFFFFFFFFFFFGGGGGGFFFFH',\n",
       " 'HHFFFFFFFFFFFFFFFFFFFFFFFFFFFFFFFFFFFFFFHHHHFFFFFFFFFFFFFFFFFFHHHFFFFFFFFFFFFFFFFFFFFFFFFGGGGGGFFFFH',\n",
       " 'HHFFFFFFFFFFFFFFFFFFFFFFFFFFFFFFFFFFFFFFHHHHFFFFFFFFFFFFFFFFFFHHHFFFFFFFFFFFFFFFFFFFFFFFFGGGGGGFFFFH',\n",
       " 'HHFFFFFFFFFFFFFFFFFFFFFFFFFFFFHHHHHFFFFFHHHHFFFFFFFFFFFFFFFFFFHHHFFFFFFFFFFFFFFFFFFFFFFFFGGGGGGFFFFH',\n",
       " 'HHFFFFFFFFFFFFFFFFFFFFFFFFFFFFHHHHHFFFFFHHHHFFFFFFFFFFFFFFFFFFHHHFFFFFFFFFFFFFFFFFFFFFFFFGGGGGGFFFFH',\n",
       " 'HHFFFFFFFFFFFFFFFFFFFFFFFFFFFFHHHHHFFFFFHHHHFFFFFFFFFFFFFFFFFFHHHFFFFFFFFFFFFFFFFFFFFFFFFGGGGGGFFFFH',\n",
       " 'HHFFFFFFFFFFFFFFFFFFFFFFFFFFFFHHHHHFFFFFHHHHFFFFFFFFFFFFFFFFFFHHHFFFFFFFFFFFFFFFFFFFFFFFFGGGGGGFFFFH',\n",
       " 'HHFFFFFFFFFFFFFFFFFFFFFFFFFFFFHHHHHFFFFFHHHHFFFFFFFFFFFFFFFFFFHHHFFFFFFFFFFFFFFFFFFFFFFFFGGGGGGFFFFH',\n",
       " 'HHFFFFFFFFFFFFFFFFFFFFFFFFFFFFHHHHHFFFFFHHHHFFFFFFFFFFFFFFFFFFHHHFFFFFFFFFFFFFFFFFFFFFFFFGGGGGGFFFFH',\n",
       " 'HHFFFFFFFFFFFFFFFFFFFFFFFFFFFFHHHHHFFFFFHHHHFFFFFFHHFFFFFFFFFFHHHFFFFFFFFFFFFFFFFFFFFFFFFGGGGGGFFFFH',\n",
       " 'HHFFFFFFFFFFFFFFFFFFFFFFFFFFFFHHHHHFFFFFHHHHFFFFFFHHFFFFFFFFFFHHHFFFFFFFFFFFFFFFFFFFFFFFFGGGGGGFFFFH',\n",
       " 'HHFFFFFFFFFFFFFFFFFFFFFFFFFFFFHHHHHFFFFFHHHHFFFFFFHHFFFFFFFFFFHHHFFFFFFFFFFFFFFFFFFFFFFFFGGGGGGFFFFH',\n",
       " 'HHFFFFFFFFFFFFFFFFFFFFFFFFFFFFHHHHHFFFFFFFFFFFFFFFHHFFFFFFFFFFHHHFFFFFFFFFFFFFFFFFFFFFFFFGGGGGGFFFFH',\n",
       " 'HHFFFFFFFFFFFFFFFFFFFFFFFFFFFFHHHHHFFFFFFFFFFFFFFFHHFFFFFFFFFFHHHFFFFFFFFFFFFFFFFFFFFFFFFGGGGGGFFFFH',\n",
       " 'HHFFFFFFFFFFFFFFFFFFFFFFFFFFFFHHHHHFFFFFFFFFFFFFFFHHFFFFFFFFFFHHHFFFFFFFFFFFFFFFFFFFFFFFFGGGGGGFFFFH',\n",
       " 'HHFFFFFFFFFFFFFFFFFFFFFFFFFFFFHHHHHFFFFFFFFFFFFFFFHHFFFFFFFFFFHHHFFFFFFFFFFFFFFFFFFFFFFFFGGGGGGFFFFH',\n",
       " 'HHFFFFFFFFFFFFFFFFFFFFHHFFFFFFHHHHHFFFFFFFFFFFFFFFHHFFFFFFFFFFHHHFFFFFFFFFFFFFFFFFFFFFFFFGGGGGGFFFFH',\n",
       " 'HHFFFFFFFFFFFFFFFFFFFFHHFFFFFFHHHHHFFFFFFFFFFFFFFFHHFFFFFFFFFFHHHFFFFFFFFFFFFFFFFFFFFFFFFGGGGGGFFFFH',\n",
       " 'HHFFFFFFFFFFFFFFFFFFFFHHFFFFFFHHHHHFFFFFFFFFFFFFFFHHFFFFFFFFFFHHHFFFFFFFFFFFFFFFFFFFFFFFFGGGGGGFFFFH',\n",
       " 'HHFFFFFFFFFFFFFFFFFFFFHHFFFFFFHHHHHFFFFFFFFFFFFFFFHHFFFFFFFFFFFFFFFFFFFFFFFFFFFFFFFFFFFFFGGGGGGFFFFH',\n",
       " 'HHFFFFFFFFFFFFFFFFFFFFHHFFFFFFHHHHHFFFFFFFFFFFFFFFHHFFFFFFFFFFFFFFFFFFFFFFFFFFFFFFFFFFFFFGGGGGGFFFFH',\n",
       " 'HHFFFFFFFFFFFFFFFFFFFFHHFFFFFFHHHHHFFFFFFFFFFFFFFFHHFFFFFFFFFFFFFFFFFFFFFFFFFFFFFFFFFFFFFGGGGGGFFFFH',\n",
       " 'HHFFFFFFFFFFFFFFFFFFFFHHFFFFFFHHHHHFFFFFFFFFFFFFFFHHFFFFFFFFFFFFFFFFFFFFFFFFFFFFFFFFFFFFFGGGGGGFFFFH',\n",
       " 'HHFFFFFFFFFFFFFFFFFFFFHHFFFFFFFFFFFFFFFFFFFFFFFFFFHHFFFFHHHHHHHHHHHHHHHHFFFFFFFFFFFFFFFFFGGGGGGFFFFH',\n",
       " 'HHFFFFFFFFFFFFFFFFFFFFHHFFFFFFFFFFFFFFFFFFFFFFFFFFHHFFFFHHHHHHHHHHHHHHHHFFFFFFFFFFFFFFFFFGGGGGGFFFFH',\n",
       " 'HHFFFFFFFFFFFFFFFFFFFFHHFFFFFFFFFFFFFFFFFFFFFFFFFFHHFFFFHHHHHHHHHHHHHHHHFFFFFFFFFFFFFFFFFGGGGGGFFFFH',\n",
       " 'HHFFFFFFFFFFFFFFFFFFFFHHFFFFFFFFFFFFFFFFFFFFFFFFFFHHFFFFHHHHHHHHHHHHHHHHFFFFFFFFFFFFFFFFFGGGGGGFFFFH',\n",
       " 'HHFFFFFFFFFFFFFFFFFFFFHHFFFFFFFFFFFFFFFFFFFFFFFFFFHHFFFFHHHHHHHHHHHHHHHHFFFFFFFFFFFFFFFFFGGGGGGFFFFH',\n",
       " 'HHFFFFFFFFFFFFFFFFFFFFHHFFFFFFFFFFFFFFFFFFFFFFFFFFHHFFFFFFFFFFFFFFFFFFFFFFFFFFFFFFFFFFFFFGGGGGGFFFFH',\n",
       " 'HHFFFFFFFFFFFFFFFFFFFFHHFFFFFFFFFFFFFFFFFFFFFFFFFFHHFFFFFFFFFFFFFFFFFFFFFFFFFFFFFFFFFFFFFGGGGGGFFFFH',\n",
       " 'HHFFFFFFFFFFFFFFFFFFFFHHFFFFFFFFFFFFFFFFFFFFFFFFFFHHFFFFFFFFFFFFFFFFFFFFFFFFFFFFFFFFFFFFFGGGGGGFFFFH',\n",
       " 'HHFFFFFFFFFFFFFFFFFFFFHHFFFFFFFFFHHHHHHHHFFFFFFFFFHHFFFFFFFFFFFFFFFFFFFFFFFFFFFFFFFFFFFFFGGGGGGFFFFH',\n",
       " 'HHFFFFFFFFFFFFFFFFFFFFHHFFFFFFFFFHHHHHHHHFFFFFFFFFHHFFFFFFFFFFFFFFFFFFFFFFFFFFFFFFFFFFFFFGGGGGGFFFFH',\n",
       " 'HHFFFFFFFFFFFFFFFFFFFFHHFFFFFFFFFHHHHHHHHFFFFFFFFFHHFFFFFFFFFFFFFFFFFFFFFFFFFFFFFFFFFFFFFGGGGGGFFFFH',\n",
       " 'HHFFFFFFFFFFFFFFFFFFFFHHFFFFFFFFFHHHHHHHHFFFFFFFFFHHFFFFFFHHHHHHHHHHHHHHHHHHHHHFFFFFFFFFFGGGGGGFFFFH',\n",
       " 'HHFFFFFFSFFFFFFFFFFFFFHHFFFFFFFFFHHHHHHHHFFFFFFFFFHHFFFFFFHHHHHHHHHHHHHHHHHHHHHFFFFFFFFFFGGGGGGFFFFH',\n",
       " 'HHFFFFFFFFFFFFFFFFFFFFHHFFFFFFFFFHHHHHHHHFFFFFFFFFHHFFFFFFHHHHHHHHHHHHHHHHHHHHHFFFFFFFFFFGGGGGGFFFFH',\n",
       " 'HHFFFFFFFFFFFFFFFFFFFFHHFFFFFFFFFHHHHHHHHFFFFFFFFFHHFFFFFFHHHHHHHHHHHHHHHHHHHHHFFFFFFFFFFGGGGGGFFFFH',\n",
       " 'HHFFFFFFFFFFFFFFFFFFFFHHFFFFFFFFFHHHHHHHHFFFFFFFFFHHFFFFFFHHHHHHHHHHHHHHHHHHHHHFFFFFFFFFFGGGGGGFFFFH',\n",
       " 'HHFFFFFFFFFFFFFFFFFFFFHHFFFFFFFFFHHHHHHHHFFFFFFFFFHHFFFFFFHHHHHHHHHHHHHHHHHHHHHFFFFFFFFFFGGGGGGFFFFH',\n",
       " 'HHFFFFFFFFFFFFFFFFFFFFHHFFFFFFFFFFFFFFFFFFFFFFFFFFHHFFFFFFHHHHHHHHHHHHHHHHHHHHHFFFFFFFFFFGGGGGGFFFFH',\n",
       " 'HHFFFFFFFFFFFFFFFFFFFFHHFFFFFFFFFFFFFFFFFFFFFFFFFFHHFFFFFFHHHHHHHHHHHHHHHHHHHHHFFFFFFFFFFGGGGGGFFFFH',\n",
       " 'HHFFFFFFFFFFFFFFFFFFFFHHFFFFFFFFFFFFFFFFFFFFFFFFFFHHFFFFFFHHHHHHHHHHHHHHHHHHHHHFFFFFFFFFFGGGGGGFFFFH',\n",
       " 'HHFFFFFFFFFFFFFFFFFFFFHHFFFFFFFFFFFFFFFFFFFFFFFFFFHHFFFFFFHHHHHHHHHHHHHHHHHHHHHFFFFFFFFFFGGGGGGFFFFH',\n",
       " 'HHFFFFFFFFFFFFFFFFFFFFHHFFFFFFFFFFFFFFFFFFFFFFFFFFHHFFFFFFHHHHHHHHHHHHHHHHHHHHHFFFFFFFFFFGGGGGGFFFFH',\n",
       " 'HHFFFFFFFFFFFFFFFFFFFFHHFFFFFFFFFFFFFFFFFFFFFFFFFFHHFFFFFFHHHHHHHHHHHHHHHHHHHHHFFFFFFFFFFGGGGGGFFFFH',\n",
       " 'HHFFFFFFFFFFFFFFFFFFFFHHFFFFFFFFFFFFFFFFFFFFFFFFFFHHFFFFFFHHHHHHHHHHHHHHHHHHHHHFFFFFFFFFFGGGGGGFFFFH',\n",
       " 'HHFFFFFFFFFFFFFFFFFFFFHHFFFFFFFFHHHHHHHHHHHHHHHFFFHHFFFFFFHHHHHHHHHHHHHHHHHHHHHFFFFFFFFFFGGGGGGFFFFH',\n",
       " 'HHFFFFFFFFFFFFFFFFFFFFHHFFFFFFFFHHHHHHHHHHHHHHHFFFHHFFFFFFHHHHHHHHHHHHHHHHHHHHHFFFFFFFFFFGGGGGGFFFFH',\n",
       " 'HHFFFFFFFFFFFFFFFFFFFFHHFFFFFFFFHHHHHHHHHHHHHHHFFFHHFFFFFFHHHHHHHHHHHHHHHHHHHHHFFFFFFFFFFGGGGGGFFFFH',\n",
       " 'HHFFFFFFFFFFFFFFFFFFFFHHFFFFFFFFHHHHHHHHHHHHHHHFFFHHFFFFFFHHHHHHHHHHHHHHHHHHHHHFFFFFFFFFFGGGGGGFFFFH',\n",
       " 'HHFFFFFFFFFFFFFFFFFFFFHHFFFFFFFFHHHHHHHHHHHHHHHFFFHHFFFFFFHHHHHHHHHHHHHHHHHHHHHFFFFFFFFFFGGGGGGFFFFH',\n",
       " 'HHFFFFFFFFFFFFFFFFFFFFFFFFFFFFFFHHHHHHHHHHHHHHHFFFFFFFFFFFHHHHHHHHHHHHHHHHHHHHHFFFFFFFFFFGGGGGGFFFFH',\n",
       " 'HHFFFFFFFFFFFFFFFFFFFFFFFFFFFFFFHHHHHHHHHHHHHHHFFFFFFFFFFFHHHHHHHHHHHHHHHHHHHHHFFFFFFFFFFGGGGGGFFFFH',\n",
       " 'HHFFFFFFFFFFFFFFFFFFFFFFFFFFFFFFHHHHHHHHHHHHHHHFFFFFFFFFFFHHHHHHHHHHHHHHHHHHHHHFFFFFFFFFFGGGGGGFFFFH',\n",
       " 'HHFFFFFFFFFFFFFFFFFFFFFFFFFFFFFFHHHHHHHHHHHHHHHFFFFFFFFFFFHHHHHHHHHHHHHHHHHHHHHFFFFFFFFFFGGGGGGFFFFH',\n",
       " 'HHFFFFFFFFFFFFFFFFFFFFFFFFFFFFFFHHHHHHHHHHHHHHHFFFFFFFFFFFHHHHHHHHHHHHHHHHHHHHHFFFFFFFFFFGGGGGGFFFFH',\n",
       " 'HHFFFFFFFFFFFFFFFFFFFFFFFFFFFFFFHHHHHHHHHHHHHHHFFFFFFFFFFFHHHHHHHHHHHHHHHHHHHHHFFFFFFFFFFGGGGGGFFFFH',\n",
       " 'HHFFFFFFFFFFFFFFFFFFFFFFFFFFFFFFHHHHHHHHHHHHHHHFFFFFFFFFFFHHHHHHHHHHHHHHHHHHHHHFFFFFFFFFFGGGGGGFFFFH',\n",
       " 'HHFFFFFFFFFFFFFFFFFFFFFFFFFFFFFFHHHHHHHHHHHHHHHFFFFFFFFFFFHHHHHHHHHHHHHHHHHHHHHFFFFFFFFFFGGGGGGFFFFH',\n",
       " 'HHFFFFFFFFFFFFFFFFFFFFFFFFFFFFFFHHHHHHHHHHHHHHHFFFFFFFFFFFHHHHHHHHHHHHHHHHHHHHHFFFFFFFFFFGGGGGGFFFFH',\n",
       " 'HHFFFFFFFFFFFFFFFFFFFFFFFFFFFFFFFFFFFFFFFFFFFFFFFFFFFFFFFFHHHHHHHHHHHHHHHHHHHHHFFFFFFFFFFGGGGGGFFFFH',\n",
       " 'HHFFFFFFFFFFFFFFFFFFFFFFFFFFFFFFFFFFFFFFFFFFFFFFFFFFFFFFFFHHHHHHHHHHHHHHHHHHHHHFFFFFFFFFFGGGGGGFFFFH',\n",
       " 'HHFFFFFFFFFFFFFFFFFFFFFFFFFFFFFFFFFFFFFFFFFFFFFFFFFFFFFFFFHHHHHHHHHHHHHHHHHHHHHFFFFFFFFFFGGGGGGFFFFH',\n",
       " 'HHFFFFFFFFFFFFFFFFFFFFFFFFFFFFFFFFFFFFFFFFFFFFFFFFFFFFFFFFHHHHHHHHHHHHHHHHHHHHHFFFFFFFFFFGGGGGGFFFFH',\n",
       " 'HHFFFFFFFFFFFFFFFFFFFFFFFFFFFFFFFFFFFFFFFFFFFFFFFFFFFFFFFFHHHHHHHHHHHHHHHHHHHHHFFFFFFFFFFGGGGGGFFFFH',\n",
       " 'HHFFFFFFFFFFFFFFFFFFFFFFFFFFFFFFFFFFFFFFFFFFFFFFFFFFFFFFFFHHHHHHHHHHHHHHHHHHHHHFFFFFFFFFFGGGGGGFFFFH',\n",
       " 'HHFFFFFFFFFFFFFFFFFFFFFFFFFFFFFFFFFFFFFFFFFFFFFFFFFFFFFFFFHHHHHHHHHHHHHHHHHHHHHFFFFFFFFFFGGGGGGFFFFH',\n",
       " 'HHFFFFFFFFFFFFFFFFFFFFFFFFFFFFFFFFFFFFFFFFFFFFFFFFFFFFFFFFHHHHHHHHHHHHHHHHHHHHHFFFFFFFFFFGGGGGGFFFFH',\n",
       " 'HHFFFFFFFFFFFFFFFFFFFFFFFFFFFFFFFFFFFFFFFFFFFFFFFFFFFFFFFFHHHHHHHHHHHHHHHHHHHHHFFFFFFFFFFGGGGGGFFFFH',\n",
       " 'HHFFFFFFFFFFFFFFFFFFFFFFFFFFFFFFFFFFFFFFFFFFFFFFFFFFFFFFFFHHHHHHHHHHHHHHHHHHHHHFFFFFFFFFFGGGGGGFFFFH',\n",
       " 'HHFFFFFFFFFFFFFFFFFFFFFFFFFFFFFFFFFFFFFFFFFFFFFFFFFFFFFFFFHHHHHHHHHHHHHHHHHHHHHFFFFFFFFFFGGGGGGFFFFH',\n",
       " 'HHFFFFFFFFFFFFFFFFFFFFFFFFFFFFFFFFFFFFFFFFFFFFFFFFFFFFFFFFHHHHHHHHHHHHHHHHHHHHHFFFFFFFFFFGGGGGGFFFFH',\n",
       " 'HHFFFFFFFFFFFFFFFFFFFFFFFFFFFFFFFFFFFFFFFFFFFFFFFFFFFFFFFFHHHHHHHHHHHHHHHHHHHHHFFFFFFFFFFGGGGGGFFFFH',\n",
       " 'HHFFFFFFFFFFFFFFFFFFFFFFFFFFFFFFFFFFFFFFFFFFFFFFFFFFFFFFFFHHHHHHHHHHHHHHHHHHHHHFFFFFFFFFFGGGGGGFFFFH',\n",
       " 'HHFFFFFFFFFFFFFFFFFFFFFFFFFFFFFFFFFFFFFFFFFFFFFFFFFFFFFFFFHHHHHHHHHHHHHHHHHHHHHFFFFFFFFFFGGGGGGFFFFH',\n",
       " 'HHFFFFFFFFFFFFFFFFFFFFFFFFFFFFFFFFFFFFFFFFFFFFFFFFFFFFFFFFHHHHHHHHHHHHHHHHHHHHHFFFFFFFFFFGGGGGGFFFFH',\n",
       " 'HHFFFFFFFFFFFFFFFFFFFFFFFFFFFFFFFFFFFFFFFFFFFFFFFFFFFFFFFFHHHHHHHHHHHHHHHHHHHHHFFFFFFFFFFGGGGGGFFFFH',\n",
       " 'HHFFFFFFFFFFFFFFFFFFFFFFFFFFFFFFFFFFFFFFFFFFFFFFFFFFFFFFFFHHHHHHHHHHHHHHHHHHHHHFFFFFFFFFFGGGGGGFFFFH',\n",
       " 'HHFFFFFFFFFFFFFFFFFFFFFFFFFFFFFFFFFFFFFFFFFFFFFFFFFFFFFFFFHHHHHHHHHHHHHHHHHHHHHFFFFFFFFFFGGGGGGFFFFH',\n",
       " 'HHFFFFFFFFFFFFFFFFFFFFFFFFFFFFFFFFFFFFFFFFFFFFFFFFFFFFFFFFHHHHHHHHHHHHHHHHHHHHHFFFFFFFFFFGGGGGGFFFFH',\n",
       " 'HHFFFFFFFFFFFFFFFFFFFFFFFFFFFFFFFFFFFFFFFFFFFFFFFFFFFFFFFFHHHHHHHHHHHHHHHHHHHHHFFFFFFFFFFGGGGGGFFFFH',\n",
       " 'HHFFFFFFFFFFFFFFFFFFFFFFFFFFFFFFFFFFFFFFFFFFFFFFFFFFFFFFFFHHHHHHHHHHHHHHHHHHHHHFFFFFFFFFFFFFFFFFFFFH',\n",
       " 'HHFFFFFFFFFFFFFFFFFFFFFFFFFFFFFFFFFFFFFFFFFFFFFFFFFFFFFFFFHHHHHHHHHHHHHHHHHHHHHFFFFFFFFFFFFFFFFFFFFH',\n",
       " 'HHHHHHHHHHHHHHHHHHHHHHHHHHHHHHHHHHHHHHHHHHHHHHHHHHHHHHHHHHHHHHHHHHHHHHHHHHHHHHHHHHHHHHHHHHHHHHHHHHHH']"
      ]
     },
     "execution_count": 3,
     "metadata": {},
     "output_type": "execute_result"
    }
   ],
   "source": [
    "area"
   ]
  },
  {
   "cell_type": "code",
   "execution_count": 4,
   "id": "09502a07",
   "metadata": {},
   "outputs": [
    {
     "name": "stdout",
     "output_type": "stream",
     "text": [
      "===== classic_control =====\n",
      "Acrobot-v1             CartPole-v0            CartPole-v1\n",
      "MountainCar-v0         MountainCarContinuous-v0 Pendulum-v1\n",
      "===== phys2d =====\n",
      "phys2d/CartPole-v0     phys2d/CartPole-v1     phys2d/Pendulum-v0\n",
      "===== box2d =====\n",
      "BipedalWalker-v3       BipedalWalkerHardcore-v3 CarRacing-v3\n",
      "LunarLander-v3         LunarLanderContinuous-v3\n",
      "===== toy_text =====\n",
      "Blackjack-v1           CliffWalking-v0        FrozenLake-v1\n",
      "FrozenLake8x8-v1       Taxi-v3\n",
      "===== tabular =====\n",
      "tabular/Blackjack-v0   tabular/CliffWalking-v0\n",
      "===== mujoco =====\n",
      "Ant-v2                 Ant-v3                 Ant-v4\n",
      "Ant-v5                 HalfCheetah-v2         HalfCheetah-v3\n",
      "HalfCheetah-v4         HalfCheetah-v5         Hopper-v2\n",
      "Hopper-v3              Hopper-v4              Hopper-v5\n",
      "Humanoid-v2            Humanoid-v3            Humanoid-v4\n",
      "Humanoid-v5            HumanoidStandup-v2     HumanoidStandup-v4\n",
      "HumanoidStandup-v5     InvertedDoublePendulum-v2 InvertedDoublePendulum-v4\n",
      "InvertedDoublePendulum-v5 InvertedPendulum-v2    InvertedPendulum-v4\n",
      "InvertedPendulum-v5    Pusher-v2              Pusher-v4\n",
      "Pusher-v5              Reacher-v2             Reacher-v4\n",
      "Reacher-v5             Swimmer-v2             Swimmer-v3\n",
      "Swimmer-v4             Swimmer-v5             Walker2d-v2\n",
      "Walker2d-v3            Walker2d-v4            Walker2d-v5\n",
      "===== None =====\n",
      "GymV21Environment-v0   GymV26Environment-v0\n"
     ]
    }
   ],
   "source": [
    "gym.pprint_registry()"
   ]
  },
  {
   "cell_type": "code",
   "execution_count": 5,
   "id": "d633fb09",
   "metadata": {},
   "outputs": [
    {
     "name": "stdout",
     "output_type": "stream",
     "text": [
      "n_state(количество квадратов): 10000, n_action(варианты ходов): 4\n"
     ]
    }
   ],
   "source": [
    "env = gym.make('FrozenLake-v1', render_mode=\"human\", desc = area)#, render_mode=\"rgb_array\") #, render_mode=\"human\")\n",
    "n_state = env.observation_space.n\n",
    "n_action = env.action_space.n\n",
    "print(f'n_state(количество квадратов): {n_state}, n_action(варианты ходов): {n_action}')"
   ]
  },
  {
   "cell_type": "code",
   "execution_count": 6,
   "id": "6d3bba19",
   "metadata": {},
   "outputs": [],
   "source": [
    "def run_episode(env, policy):\n",
    "    obs, info = env.reset()\n",
    "    # state = env.reset()\n",
    "    # print(state[0])\n",
    "    total_reward = 0\n",
    "    done = False\n",
    "    while not done:\n",
    "        # print(state[0])\n",
    "        action = policy[obs].item()\n",
    "        observation, reward, terminated, truncated, info = env.step(action)\n",
    "        env.render()\n",
    "        # episode_over = terminated or truncated\n",
    "        # state, reward, is_done, _, info = env.step(action)\n",
    "        # print(f'observation: {observation}')\n",
    "        \n",
    "        total_reward += reward\n",
    "        done = terminated or truncated\n",
    "        obs = observation\n",
    "\n",
    "        # if is_done:\n",
    "        #     break\n",
    "    return total_reward\n",
    "    "
   ]
  },
  {
   "cell_type": "code",
   "execution_count": null,
   "id": "ca34d895",
   "metadata": {},
   "outputs": [
    {
     "name": "stdout",
     "output_type": "stream",
     "text": [
      "3\r"
     ]
    },
    {
     "ename": "KeyboardInterrupt",
     "evalue": "",
     "output_type": "error",
     "traceback": [
      "\u001b[1;31m---------------------------------------------------------------------------\u001b[0m",
      "\u001b[1;31mKeyboardInterrupt\u001b[0m                         Traceback (most recent call last)",
      "Cell \u001b[1;32mIn[7], line 7\u001b[0m\n\u001b[0;32m      5\u001b[0m     random_policy \u001b[38;5;241m=\u001b[39m torch\u001b[38;5;241m.\u001b[39mrandint(high\u001b[38;5;241m=\u001b[39mn_action, size\u001b[38;5;241m=\u001b[39m(n_state,))\n\u001b[0;32m      6\u001b[0m     \u001b[38;5;66;03m# print(random_policy)\u001b[39;00m\n\u001b[1;32m----> 7\u001b[0m     total_reward \u001b[38;5;241m=\u001b[39m \u001b[43mrun_episode\u001b[49m\u001b[43m(\u001b[49m\u001b[43menv\u001b[49m\u001b[43m,\u001b[49m\u001b[43m \u001b[49m\u001b[43mrandom_policy\u001b[49m\u001b[43m)\u001b[49m\n\u001b[0;32m      8\u001b[0m     total_rewards\u001b[38;5;241m.\u001b[39mappend(total_reward)\n\u001b[0;32m      9\u001b[0m \u001b[38;5;28mprint\u001b[39m(\u001b[38;5;124m'\u001b[39m\u001b[38;5;124mСреднее полное вознаграждение при случайной стратегии: \u001b[39m\u001b[38;5;132;01m{}\u001b[39;00m\u001b[38;5;124m'\u001b[39m\u001b[38;5;241m.\u001b[39mformat(\u001b[38;5;28msum\u001b[39m(total_rewards) \u001b[38;5;241m/\u001b[39m n_episode))\n",
      "Cell \u001b[1;32mIn[6], line 10\u001b[0m, in \u001b[0;36mrun_episode\u001b[1;34m(env, policy)\u001b[0m\n\u001b[0;32m      7\u001b[0m \u001b[38;5;28;01mwhile\u001b[39;00m \u001b[38;5;129;01mnot\u001b[39;00m done:\n\u001b[0;32m      8\u001b[0m     \u001b[38;5;66;03m# print(state[0])\u001b[39;00m\n\u001b[0;32m      9\u001b[0m     action \u001b[38;5;241m=\u001b[39m policy[obs]\u001b[38;5;241m.\u001b[39mitem()\n\u001b[1;32m---> 10\u001b[0m     observation, reward, terminated, truncated, info \u001b[38;5;241m=\u001b[39m \u001b[43menv\u001b[49m\u001b[38;5;241;43m.\u001b[39;49m\u001b[43mstep\u001b[49m\u001b[43m(\u001b[49m\u001b[43maction\u001b[49m\u001b[43m)\u001b[49m\n\u001b[0;32m     11\u001b[0m     env\u001b[38;5;241m.\u001b[39mrender()\n\u001b[0;32m     12\u001b[0m     \u001b[38;5;66;03m# episode_over = terminated or truncated\u001b[39;00m\n\u001b[0;32m     13\u001b[0m     \u001b[38;5;66;03m# state, reward, is_done, _, info = env.step(action)\u001b[39;00m\n\u001b[0;32m     14\u001b[0m     \u001b[38;5;66;03m# print(f'observation: {observation}')\u001b[39;00m\n",
      "File \u001b[1;32mc:\\my_data\\___Obuch_Podkr___\\Labirint\\.conda\\lib\\site-packages\\gymnasium\\wrappers\\common.py:125\u001b[0m, in \u001b[0;36mTimeLimit.step\u001b[1;34m(self, action)\u001b[0m\n\u001b[0;32m    112\u001b[0m \u001b[38;5;28;01mdef\u001b[39;00m\u001b[38;5;250m \u001b[39m\u001b[38;5;21mstep\u001b[39m(\n\u001b[0;32m    113\u001b[0m     \u001b[38;5;28mself\u001b[39m, action: ActType\n\u001b[0;32m    114\u001b[0m ) \u001b[38;5;241m-\u001b[39m\u001b[38;5;241m>\u001b[39m \u001b[38;5;28mtuple\u001b[39m[ObsType, SupportsFloat, \u001b[38;5;28mbool\u001b[39m, \u001b[38;5;28mbool\u001b[39m, \u001b[38;5;28mdict\u001b[39m[\u001b[38;5;28mstr\u001b[39m, Any]]:\n\u001b[0;32m    115\u001b[0m \u001b[38;5;250m    \u001b[39m\u001b[38;5;124;03m\"\"\"Steps through the environment and if the number of steps elapsed exceeds ``max_episode_steps`` then truncate.\u001b[39;00m\n\u001b[0;32m    116\u001b[0m \n\u001b[0;32m    117\u001b[0m \u001b[38;5;124;03m    Args:\u001b[39;00m\n\u001b[1;32m   (...)\u001b[0m\n\u001b[0;32m    123\u001b[0m \n\u001b[0;32m    124\u001b[0m \u001b[38;5;124;03m    \"\"\"\u001b[39;00m\n\u001b[1;32m--> 125\u001b[0m     observation, reward, terminated, truncated, info \u001b[38;5;241m=\u001b[39m \u001b[38;5;28;43mself\u001b[39;49m\u001b[38;5;241;43m.\u001b[39;49m\u001b[43menv\u001b[49m\u001b[38;5;241;43m.\u001b[39;49m\u001b[43mstep\u001b[49m\u001b[43m(\u001b[49m\u001b[43maction\u001b[49m\u001b[43m)\u001b[49m\n\u001b[0;32m    126\u001b[0m     \u001b[38;5;28mself\u001b[39m\u001b[38;5;241m.\u001b[39m_elapsed_steps \u001b[38;5;241m+\u001b[39m\u001b[38;5;241m=\u001b[39m \u001b[38;5;241m1\u001b[39m\n\u001b[0;32m    128\u001b[0m     \u001b[38;5;28;01mif\u001b[39;00m \u001b[38;5;28mself\u001b[39m\u001b[38;5;241m.\u001b[39m_elapsed_steps \u001b[38;5;241m>\u001b[39m\u001b[38;5;241m=\u001b[39m \u001b[38;5;28mself\u001b[39m\u001b[38;5;241m.\u001b[39m_max_episode_steps:\n",
      "File \u001b[1;32mc:\\my_data\\___Obuch_Podkr___\\Labirint\\.conda\\lib\\site-packages\\gymnasium\\wrappers\\common.py:393\u001b[0m, in \u001b[0;36mOrderEnforcing.step\u001b[1;34m(self, action)\u001b[0m\n\u001b[0;32m    391\u001b[0m \u001b[38;5;28;01mif\u001b[39;00m \u001b[38;5;129;01mnot\u001b[39;00m \u001b[38;5;28mself\u001b[39m\u001b[38;5;241m.\u001b[39m_has_reset:\n\u001b[0;32m    392\u001b[0m     \u001b[38;5;28;01mraise\u001b[39;00m ResetNeeded(\u001b[38;5;124m\"\u001b[39m\u001b[38;5;124mCannot call env.step() before calling env.reset()\u001b[39m\u001b[38;5;124m\"\u001b[39m)\n\u001b[1;32m--> 393\u001b[0m \u001b[38;5;28;01mreturn\u001b[39;00m \u001b[38;5;28;43msuper\u001b[39;49m\u001b[43m(\u001b[49m\u001b[43m)\u001b[49m\u001b[38;5;241;43m.\u001b[39;49m\u001b[43mstep\u001b[49m\u001b[43m(\u001b[49m\u001b[43maction\u001b[49m\u001b[43m)\u001b[49m\n",
      "File \u001b[1;32mc:\\my_data\\___Obuch_Podkr___\\Labirint\\.conda\\lib\\site-packages\\gymnasium\\core.py:327\u001b[0m, in \u001b[0;36mWrapper.step\u001b[1;34m(self, action)\u001b[0m\n\u001b[0;32m    323\u001b[0m \u001b[38;5;28;01mdef\u001b[39;00m\u001b[38;5;250m \u001b[39m\u001b[38;5;21mstep\u001b[39m(\n\u001b[0;32m    324\u001b[0m     \u001b[38;5;28mself\u001b[39m, action: WrapperActType\n\u001b[0;32m    325\u001b[0m ) \u001b[38;5;241m-\u001b[39m\u001b[38;5;241m>\u001b[39m \u001b[38;5;28mtuple\u001b[39m[WrapperObsType, SupportsFloat, \u001b[38;5;28mbool\u001b[39m, \u001b[38;5;28mbool\u001b[39m, \u001b[38;5;28mdict\u001b[39m[\u001b[38;5;28mstr\u001b[39m, Any]]:\n\u001b[0;32m    326\u001b[0m \u001b[38;5;250m    \u001b[39m\u001b[38;5;124;03m\"\"\"Uses the :meth:`step` of the :attr:`env` that can be overwritten to change the returned data.\"\"\"\u001b[39;00m\n\u001b[1;32m--> 327\u001b[0m     \u001b[38;5;28;01mreturn\u001b[39;00m \u001b[38;5;28;43mself\u001b[39;49m\u001b[38;5;241;43m.\u001b[39;49m\u001b[43menv\u001b[49m\u001b[38;5;241;43m.\u001b[39;49m\u001b[43mstep\u001b[49m\u001b[43m(\u001b[49m\u001b[43maction\u001b[49m\u001b[43m)\u001b[49m\n",
      "File \u001b[1;32mc:\\my_data\\___Obuch_Podkr___\\Labirint\\.conda\\lib\\site-packages\\gymnasium\\wrappers\\common.py:285\u001b[0m, in \u001b[0;36mPassiveEnvChecker.step\u001b[1;34m(self, action)\u001b[0m\n\u001b[0;32m    283\u001b[0m     \u001b[38;5;28;01mreturn\u001b[39;00m env_step_passive_checker(\u001b[38;5;28mself\u001b[39m\u001b[38;5;241m.\u001b[39menv, action)\n\u001b[0;32m    284\u001b[0m \u001b[38;5;28;01melse\u001b[39;00m:\n\u001b[1;32m--> 285\u001b[0m     \u001b[38;5;28;01mreturn\u001b[39;00m \u001b[38;5;28;43mself\u001b[39;49m\u001b[38;5;241;43m.\u001b[39;49m\u001b[43menv\u001b[49m\u001b[38;5;241;43m.\u001b[39;49m\u001b[43mstep\u001b[49m\u001b[43m(\u001b[49m\u001b[43maction\u001b[49m\u001b[43m)\u001b[49m\n",
      "File \u001b[1;32mc:\\my_data\\___Obuch_Podkr___\\Labirint\\.conda\\lib\\site-packages\\gymnasium\\envs\\toy_text\\frozen_lake.py:313\u001b[0m, in \u001b[0;36mFrozenLakeEnv.step\u001b[1;34m(self, a)\u001b[0m\n\u001b[0;32m    310\u001b[0m \u001b[38;5;28mself\u001b[39m\u001b[38;5;241m.\u001b[39mlastaction \u001b[38;5;241m=\u001b[39m a\n\u001b[0;32m    312\u001b[0m \u001b[38;5;28;01mif\u001b[39;00m \u001b[38;5;28mself\u001b[39m\u001b[38;5;241m.\u001b[39mrender_mode \u001b[38;5;241m==\u001b[39m \u001b[38;5;124m\"\u001b[39m\u001b[38;5;124mhuman\u001b[39m\u001b[38;5;124m\"\u001b[39m:\n\u001b[1;32m--> 313\u001b[0m     \u001b[38;5;28;43mself\u001b[39;49m\u001b[38;5;241;43m.\u001b[39;49m\u001b[43mrender\u001b[49m\u001b[43m(\u001b[49m\u001b[43m)\u001b[49m\n\u001b[0;32m    314\u001b[0m \u001b[38;5;66;03m# truncation=False as the time limit is handled by the `TimeLimit` wrapper added during `make`\u001b[39;00m\n\u001b[0;32m    315\u001b[0m \u001b[38;5;28;01mreturn\u001b[39;00m \u001b[38;5;28mint\u001b[39m(s), r, t, \u001b[38;5;28;01mFalse\u001b[39;00m, {\u001b[38;5;124m\"\u001b[39m\u001b[38;5;124mprob\u001b[39m\u001b[38;5;124m\"\u001b[39m: p}\n",
      "File \u001b[1;32mc:\\my_data\\___Obuch_Podkr___\\Labirint\\.conda\\lib\\site-packages\\gymnasium\\envs\\toy_text\\frozen_lake.py:344\u001b[0m, in \u001b[0;36mFrozenLakeEnv.render\u001b[1;34m(self)\u001b[0m\n\u001b[0;32m    342\u001b[0m     \u001b[38;5;28;01mreturn\u001b[39;00m \u001b[38;5;28mself\u001b[39m\u001b[38;5;241m.\u001b[39m_render_text()\n\u001b[0;32m    343\u001b[0m \u001b[38;5;28;01melse\u001b[39;00m:  \u001b[38;5;66;03m# self.render_mode in {\"human\", \"rgb_array\"}:\u001b[39;00m\n\u001b[1;32m--> 344\u001b[0m     \u001b[38;5;28;01mreturn\u001b[39;00m \u001b[38;5;28;43mself\u001b[39;49m\u001b[38;5;241;43m.\u001b[39;49m\u001b[43m_render_gui\u001b[49m\u001b[43m(\u001b[49m\u001b[38;5;28;43mself\u001b[39;49m\u001b[38;5;241;43m.\u001b[39;49m\u001b[43mrender_mode\u001b[49m\u001b[43m)\u001b[49m\n",
      "File \u001b[1;32mc:\\my_data\\___Obuch_Podkr___\\Labirint\\.conda\\lib\\site-packages\\gymnasium\\envs\\toy_text\\frozen_lake.py:438\u001b[0m, in \u001b[0;36mFrozenLakeEnv._render_gui\u001b[1;34m(self, mode)\u001b[0m\n\u001b[0;32m    436\u001b[0m     pygame\u001b[38;5;241m.\u001b[39mevent\u001b[38;5;241m.\u001b[39mpump()\n\u001b[0;32m    437\u001b[0m     pygame\u001b[38;5;241m.\u001b[39mdisplay\u001b[38;5;241m.\u001b[39mupdate()\n\u001b[1;32m--> 438\u001b[0m     \u001b[38;5;28;43mself\u001b[39;49m\u001b[38;5;241;43m.\u001b[39;49m\u001b[43mclock\u001b[49m\u001b[38;5;241;43m.\u001b[39;49m\u001b[43mtick\u001b[49m\u001b[43m(\u001b[49m\u001b[38;5;28;43mself\u001b[39;49m\u001b[38;5;241;43m.\u001b[39;49m\u001b[43mmetadata\u001b[49m\u001b[43m[\u001b[49m\u001b[38;5;124;43m\"\u001b[39;49m\u001b[38;5;124;43mrender_fps\u001b[39;49m\u001b[38;5;124;43m\"\u001b[39;49m\u001b[43m]\u001b[49m\u001b[43m)\u001b[49m\n\u001b[0;32m    439\u001b[0m \u001b[38;5;28;01melif\u001b[39;00m mode \u001b[38;5;241m==\u001b[39m \u001b[38;5;124m\"\u001b[39m\u001b[38;5;124mrgb_array\u001b[39m\u001b[38;5;124m\"\u001b[39m:\n\u001b[0;32m    440\u001b[0m     \u001b[38;5;28;01mreturn\u001b[39;00m np\u001b[38;5;241m.\u001b[39mtranspose(\n\u001b[0;32m    441\u001b[0m         np\u001b[38;5;241m.\u001b[39marray(pygame\u001b[38;5;241m.\u001b[39msurfarray\u001b[38;5;241m.\u001b[39mpixels3d(\u001b[38;5;28mself\u001b[39m\u001b[38;5;241m.\u001b[39mwindow_surface)), axes\u001b[38;5;241m=\u001b[39m(\u001b[38;5;241m1\u001b[39m, \u001b[38;5;241m0\u001b[39m, \u001b[38;5;241m2\u001b[39m)\n\u001b[0;32m    442\u001b[0m     )\n",
      "\u001b[1;31mKeyboardInterrupt\u001b[0m: "
     ]
    },
    {
     "ename": "",
     "evalue": "",
     "output_type": "error",
     "traceback": [
      "\u001b[1;31mПри выполнении кода в текущей ячейке или предыдущей ячейке ядро аварийно завершило работу. \n",
      "\u001b[1;31mПроверьте код в ячейках, чтобы определить возможную причину сбоя. \n",
      "\u001b[1;31mЩелкните <a href='https://aka.ms/vscodeJupyterKernelCrash'>здесь</a>, чтобы получить дополнительные сведения. \n",
      "\u001b[1;31mПодробнее см. в <a href='command:jupyter.viewOutput'>журнале Jupyter</a>."
     ]
    }
   ],
   "source": [
    "n_episode = 20\n",
    "total_rewards = []\n",
    "for episode in range(n_episode):\n",
    "    print(episode, end='\\r')\n",
    "    random_policy = torch.randint(high=n_action, size=(n_state,))\n",
    "    # print(random_policy)\n",
    "    total_reward = run_episode(env, random_policy)\n",
    "    total_rewards.append(total_reward)\n",
    "print('Среднее полное вознаграждение при случайной стратегии: {}'.format(sum(total_rewards) / n_episode))"
   ]
  },
  {
   "cell_type": "code",
   "execution_count": null,
   "id": "bc482587",
   "metadata": {},
   "outputs": [],
   "source": []
  },
  {
   "cell_type": "code",
   "execution_count": null,
   "id": "d294c32f",
   "metadata": {},
   "outputs": [],
   "source": []
  }
 ],
 "metadata": {
  "kernelspec": {
   "display_name": "Python 3",
   "language": "python",
   "name": "python3"
  },
  "language_info": {
   "codemirror_mode": {
    "name": "ipython",
    "version": 3
   },
   "file_extension": ".py",
   "mimetype": "text/x-python",
   "name": "python",
   "nbconvert_exporter": "python",
   "pygments_lexer": "ipython3",
   "version": "3.10.16"
  }
 },
 "nbformat": 4,
 "nbformat_minor": 5
}
