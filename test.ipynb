{
 "cells": [
  {
   "cell_type": "code",
   "execution_count": 7,
   "id": "f0312dc6",
   "metadata": {},
   "outputs": [],
   "source": [
    "import torch\n",
    "import numpy as np\n",
    "import cv2\n",
    "import pandas as pd\n",
    "from PIL import Image\n",
    "import matplotlib.pyplot as plt"
   ]
  },
  {
   "cell_type": "markdown",
   "id": "c1c742ce",
   "metadata": {},
   "source": [
    "---------------------------------------------------- этап 1 (загружаем картинку-поле) ----------------------------------------------------"
   ]
  },
  {
   "cell_type": "code",
   "execution_count": 108,
   "id": "fc3c2a8b",
   "metadata": {},
   "outputs": [
    {
     "data": {
      "image/png": "[encoded data removed]",
      "text/plain": [
       "<Figure size 640x480 with 1 Axes>"
      ]
     },
     "metadata": {},
     "output_type": "display_data"
    }
   ],
   "source": [
    "# загружаем картинку (картинка должна быть латиницей):\n",
    "pic = cv2.imread('Labirint.png', 0) #.transpose(-1,0,1)\n",
    "# смотрим картинку:\n",
    "f, ax = plt.subplots()\n",
    "plt.imshow(pic)\n",
    "plt.axis('off')\n",
    "plt.text(.01, +1.1, f'Игровое поле {pic.shape}:', ha='left', va='top',fontsize=18, transform=ax.transAxes, bbox={\"facecolor\":\"r\", \"alpha\":0.1})\n",
    "plt.show()"
   ]
  },
  {
   "cell_type": "code",
   "execution_count": 109,
   "id": "84cd4f41",
   "metadata": {},
   "outputs": [
    {
     "name": "stdout",
     "output_type": "stream",
     "text": [
      "[[0 0 0 ... 0 0 0]\n",
      " [0 0 0 ... 0 0 0]\n",
      " [0 0 0 ... 0 0 0]\n",
      " ...\n",
      " [0 0 0 ... 0 0 0]\n",
      " [0 0 0 ... 0 0 0]\n",
      " [0 0 0 ... 0 0 0]]\n"
     ]
    }
   ],
   "source": [
    "print(pic)"
   ]
  },
  {
   "cell_type": "code",
   "execution_count": 130,
   "id": "e0d1d573",
   "metadata": {},
   "outputs": [],
   "source": [
    "# открытие картинка в отдельном окне\n",
    "cv2.imshow('image',pic)\n",
    "cv2.waitKey(0)\n",
    "cv2.destroyAllWindows()"
   ]
  },
  {
   "cell_type": "code",
   "execution_count": 155,
   "id": "d08ee455",
   "metadata": {},
   "outputs": [
    {
     "name": "stdout",
     "output_type": "stream",
     "text": [
      "(800, 1200)\n"
     ]
    },
    {
     "data": {
      "text/plain": [
       "array([[  0,   0,   0, ...,   0,   0,   0],\n",
       "       [  0,   0,   0, ...,   0,   0,   0],\n",
       "       [  0, 255, 255, ..., 255, 255,   0],\n",
       "       ...,\n",
       "       [  0, 255, 255, ..., 255, 255,   0],\n",
       "       [  0, 255, 255, ..., 255, 255,   0],\n",
       "       [  0,   0,   0, ...,   0,   0,   0]], shape=(200, 300), dtype=uint8)"
      ]
     },
     "execution_count": 155,
     "metadata": {},
     "output_type": "execute_result"
    }
   ],
   "source": [
    "# изменение размера картинки\n",
    "# pic = pic.transpose(-1,0,1) # меняем каналы с (800, 1200, 3) на (3, 800, 1200)\n",
    "print(pic.shape)\n",
    "label_mask_real_size = cv2.resize(pic, (300, 200), interpolation=cv2.INTER_NEAREST)\n",
    "label_mask_real_size\n"
   ]
  },
  {
   "cell_type": "code",
   "execution_count": 156,
   "id": "c4063163",
   "metadata": {},
   "outputs": [
    {
     "data": {
      "text/plain": [
       "array([  0, 255, 255, 255, 255, 255, 255, 255, 255, 255, 255, 255, 255,\n",
       "       255, 255, 255, 255, 255, 255, 255, 255, 255, 255, 255, 255, 255,\n",
       "       255, 255, 255, 255, 255,   0,   0,   0,   0,   0,   0,   0, 255,\n",
       "       255, 255, 255, 255, 255, 255, 255, 255, 255, 255, 255, 255, 255,\n",
       "       255, 255, 255, 255, 255, 255, 255, 255, 255, 255, 255, 255, 255,\n",
       "       255, 255, 255, 255, 255, 255, 255, 255, 255, 255, 255, 255, 255,\n",
       "       255, 255, 255, 255, 255, 255, 255, 255, 255, 255, 255, 255, 255,\n",
       "       255, 255, 255, 255, 255, 255,   0,   0,   0,   0,   0,   0,   0,\n",
       "         0,   0,   0,   0,   0,   0,   0,   0,   0,   0,   0,   0,   0,\n",
       "         0,   0,   0,   0,   0,   0,   0,   0,   0, 255, 255, 255, 255,\n",
       "       255, 255, 255, 255, 255, 255, 255, 255, 255, 255, 255, 255, 255,\n",
       "       255, 255, 255, 255, 255, 255, 255, 255, 255, 255, 255, 255, 255,\n",
       "       255, 255, 255, 255, 255, 255, 255, 255, 255, 255, 255, 255, 255,\n",
       "       255, 255, 255, 255, 255, 255, 255, 255, 255, 255, 255, 255, 255,\n",
       "       255, 255, 255, 255, 255, 255, 255, 255, 255, 255, 255, 255, 255,\n",
       "       255, 255, 255, 255, 255, 255, 255, 255, 255, 255, 255, 255, 255,\n",
       "       255,   0,   0,   0,   0,   0, 255, 255, 255, 255, 255, 255, 255,\n",
       "       255, 255, 255, 255, 255, 255, 255, 255, 255, 255, 255, 255, 255,\n",
       "       255, 255, 255, 255, 255, 255, 255, 255, 255, 255, 255, 255, 255,\n",
       "       255, 255, 255, 255, 255, 255, 255, 255, 255, 255, 255, 255, 255,\n",
       "       255, 255, 255, 255, 255, 255, 255, 255, 255, 144, 144, 144, 144,\n",
       "       144, 144, 144, 144, 144, 144, 144, 144, 144, 144, 144, 144, 144,\n",
       "       144, 144, 144, 144, 144, 144, 144, 144, 255, 255, 255, 255, 255,\n",
       "         0], dtype=uint8)"
      ]
     },
     "execution_count": 156,
     "metadata": {},
     "output_type": "execute_result"
    }
   ],
   "source": [
    "label_mask_real_size[100]"
   ]
  },
  {
   "cell_type": "code",
   "execution_count": 157,
   "id": "597853b2",
   "metadata": {},
   "outputs": [],
   "source": [
    "# добавили агента, но он маленький совсем))))\n",
    "label_mask_real_size[100][12] = 60\n"
   ]
  },
  {
   "cell_type": "code",
   "execution_count": 162,
   "id": "9b8bd15b",
   "metadata": {},
   "outputs": [],
   "source": [
    "# смотрим измененную картинку\n",
    "res = cv2.resize(label_mask_real_size, dsize=(600,400), interpolation=cv2.INTER_CUBIC)\n",
    "# cv2.namedWindow(\"Resized\", cv2.WINDOW_NORMAL)\n",
    "cv2.imshow('image',res)\n",
    "cv2.waitKey(0)\n",
    "cv2.destroyAllWindows()"
   ]
  },
  {
   "cell_type": "code",
   "execution_count": 160,
   "id": "dd3e5773",
   "metadata": {},
   "outputs": [
    {
     "name": "stdout",
     "output_type": "stream",
     "text": [
      "[0, 255, 144, 60]\n"
     ]
    }
   ],
   "source": [
    "# проверяем значения в матрице, нужно, чтобы их не было больше, или меньше, чем нужно\n",
    "h = []\n",
    "for i in label_mask_real_size:\n",
    "    # print(set(i))\n",
    "    for _ in i: \n",
    "        if _ not in h:\n",
    "            h.append(_)\n",
    "print([int(j) for j in h])\n",
    "\n"
   ]
  },
  {
   "cell_type": "code",
   "execution_count": 163,
   "id": "9670b6ec",
   "metadata": {},
   "outputs": [
    {
     "data": {
      "image/png": "[encoded data removed]",
      "text/plain": [
       "<Figure size 640x480 with 1 Axes>"
      ]
     },
     "metadata": {},
     "output_type": "display_data"
    }
   ],
   "source": [
    "plt.imshow(label_mask_real_size)\n",
    "plt.axis('off')\n",
    "# plt.text(.01, +1.1, f'Игровое поле {pic.shape}:', ha='left', va='top',fontsize=18, transform=ax.transAxes, bbox={\"facecolor\":\"r\", \"alpha\":0.1})\n",
    "plt.show()"
   ]
  },
  {
   "cell_type": "code",
   "execution_count": 168,
   "id": "b4b77743",
   "metadata": {},
   "outputs": [
    {
     "data": {
      "text/plain": [
       "array([[  0,   0,   0, ...,   0,   0,   0],\n",
       "       [  0,   0,   0, ...,   0,   0,   0],\n",
       "       [  0, 255, 255, ..., 255, 255,   0],\n",
       "       ...,\n",
       "       [  0, 255, 255, ..., 255, 255,   0],\n",
       "       [  0, 255, 255, ..., 255, 255,   0],\n",
       "       [  0,   0,   0, ...,   0,   0,   0]], shape=(200, 300), dtype=uint8)"
      ]
     },
     "execution_count": 168,
     "metadata": {},
     "output_type": "execute_result"
    }
   ],
   "source": [
    "label_mask_real_size"
   ]
  },
  {
   "cell_type": "code",
   "execution_count": null,
   "id": "d00c3400",
   "metadata": {},
   "outputs": [
    {
     "name": "stdout",
     "output_type": "stream",
     "text": [
      "200\n"
     ]
    }
   ],
   "source": [
    "# переводим цифры в буквы по словарю\n",
    "area = []\n",
    "dct = {0: 'H', 60: 'S', 144: 'G', 255: 'F'}\n",
    "for i in label_mask_real_size:\n",
    "    # print(f'i:{len(i)}')\n",
    "    fox = ''.join([dct[_] for _ in i])\n",
    "    # print(len(fox))\n",
    "    \n",
    "    area.append(fox)\n",
    "print(len(area))"
   ]
  },
  {
   "cell_type": "code",
   "execution_count": 178,
   "id": "c66e357b",
   "metadata": {},
   "outputs": [
    {
     "name": "stdout",
     "output_type": "stream",
     "text": [
      "['H', 'F', 'G', 'S']\n"
     ]
    }
   ],
   "source": [
    "# проверяем значения в матрице, нужно, чтобы их не было больше, или меньше, чем нужно\n",
    "h = []\n",
    "for i in area:\n",
    "    # print(set(i))\n",
    "    for _ in i: \n",
    "        if _ not in h:\n",
    "            h.append(_)\n",
    "print(h)"
   ]
  },
  {
   "cell_type": "code",
   "execution_count": null,
   "id": "e8d81de7",
   "metadata": {},
   "outputs": [
    {
     "name": "stdout",
     "output_type": "stream",
     "text": [
      "File written successfully\n"
     ]
    }
   ],
   "source": [
    "# записываем таблицу в файл area.txt\n",
    "with open('area.txt', 'w+') as f:\n",
    "    \n",
    "    # write elements of list\n",
    "    for items in area:\n",
    "        f.write('%s\\n' %items)\n",
    "    \n",
    "    print(\"File written successfully\")"
   ]
  },
  {
   "cell_type": "markdown",
   "id": "f9f7f460",
   "metadata": {},
   "source": [
    "# ***Результирующая картинка для подачи в модель area***"
   ]
  },
  {
   "cell_type": "markdown",
   "id": "38574789",
   "metadata": {},
   "source": [
    "---------------------------------------------------- этап 2 ----------------------------------------------------"
   ]
  },
  {
   "cell_type": "code",
   "execution_count": 5,
   "id": "e4fe77df",
   "metadata": {},
   "outputs": [
    {
     "name": "stdout",
     "output_type": "stream",
     "text": [
      "===== classic_control =====\n",
      "Acrobot-v1             CartPole-v0            CartPole-v1\n",
      "MountainCar-v0         MountainCarContinuous-v0 Pendulum-v1\n",
      "===== phys2d =====\n",
      "phys2d/CartPole-v0     phys2d/CartPole-v1     phys2d/Pendulum-v0\n",
      "===== box2d =====\n",
      "BipedalWalker-v3       BipedalWalkerHardcore-v3 CarRacing-v3\n",
      "LunarLander-v3         LunarLanderContinuous-v3\n",
      "===== toy_text =====\n",
      "Blackjack-v1           CliffWalking-v0        FrozenLake-v1\n",
      "FrozenLake8x8-v1       Taxi-v3\n",
      "===== tabular =====\n",
      "tabular/Blackjack-v0   tabular/CliffWalking-v0\n",
      "===== mujoco =====\n",
      "Ant-v2                 Ant-v3                 Ant-v4\n",
      "Ant-v5                 HalfCheetah-v2         HalfCheetah-v3\n",
      "HalfCheetah-v4         HalfCheetah-v5         Hopper-v2\n",
      "Hopper-v3              Hopper-v4              Hopper-v5\n",
      "Humanoid-v2            Humanoid-v3            Humanoid-v4\n",
      "Humanoid-v5            HumanoidStandup-v2     HumanoidStandup-v4\n",
      "HumanoidStandup-v5     InvertedDoublePendulum-v2 InvertedDoublePendulum-v4\n",
      "InvertedDoublePendulum-v5 InvertedPendulum-v2    InvertedPendulum-v4\n",
      "InvertedPendulum-v5    Pusher-v2              Pusher-v4\n",
      "Pusher-v5              Reacher-v2             Reacher-v4\n",
      "Reacher-v5             Swimmer-v2             Swimmer-v3\n",
      "Swimmer-v4             Swimmer-v5             Walker2d-v2\n",
      "Walker2d-v3            Walker2d-v4            Walker2d-v5\n",
      "===== None =====\n",
      "GymV21Environment-v0   GymV26Environment-v0\n"
     ]
    }
   ],
   "source": [
    "gym.pprint_registry()"
   ]
  },
  {
   "cell_type": "code",
   "execution_count": 6,
   "id": "dd4aca18",
   "metadata": {},
   "outputs": [
    {
     "data": {
      "text/plain": [
       "<OrderEnforcing<PassiveEnvChecker<CliffWalkingEnv<CliffWalking-v0>>>>"
      ]
     },
     "execution_count": 6,
     "metadata": {},
     "output_type": "execute_result"
    }
   ],
   "source": [
    "import gymnasium as gym\n",
    "gym.make('CliffWalking-v0')"
   ]
  }
 ],
 "metadata": {
  "kernelspec": {
   "display_name": "Python 3",
   "language": "python",
   "name": "python3"
  },
  "language_info": {
   "codemirror_mode": {
    "name": "ipython",
    "version": 3
   },
   "file_extension": ".py",
   "mimetype": "text/x-python",
   "name": "python",
   "nbconvert_exporter": "python",
   "pygments_lexer": "ipython3",
   "version": "3.10.16"
  }
 },
 "nbformat": 4,
 "nbformat_minor": 5
}
