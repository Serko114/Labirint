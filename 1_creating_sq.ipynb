{
 "cells": [
  {
   "cell_type": "code",
   "execution_count": 1,
   "id": "f0312dc6",
   "metadata": {},
   "outputs": [],
   "source": [
    "import torch\n",
    "import numpy as np\n",
    "import cv2\n",
    "import pandas as pd\n",
    "from PIL import Image\n",
    "import matplotlib.pyplot as plt"
   ]
  },
  {
   "cell_type": "markdown",
   "id": "c1c742ce",
   "metadata": {},
   "source": [
    "---------------------------------------------------- этап 1 (загружаем картинку-поле) ----------------------------------------------------"
   ]
  },
  {
   "cell_type": "code",
   "execution_count": 40,
   "id": "fc3c2a8b",
   "metadata": {},
   "outputs": [
    {
     "data": {
      "image/png": "[encoded data removed]",
      "text/plain": [
       "<Figure size 640x480 with 1 Axes>"
      ]
     },
     "metadata": {},
     "output_type": "display_data"
    }
   ],
   "source": [
    "# загружаем картинку (картинка должна быть латиницей):\n",
    "pic = cv2.imread('Labirint_sq.png', 0) #.transpose(-1,0,1)\n",
    "# смотрим картинку:\n",
    "f, ax = plt.subplots()\n",
    "plt.imshow(pic)\n",
    "plt.axis('off')\n",
    "plt.text(.01, +1.1, f'Игровое поле {pic.shape}:', ha='left', va='top',fontsize=18, transform=ax.transAxes, bbox={\"facecolor\":\"r\", \"alpha\":0.1})\n",
    "plt.show()"
   ]
  },
  {
   "cell_type": "code",
   "execution_count": 41,
   "id": "84cd4f41",
   "metadata": {},
   "outputs": [
    {
     "name": "stdout",
     "output_type": "stream",
     "text": [
      "[[0 0 0 ... 0 0 0]\n",
      " [0 0 0 ... 0 0 0]\n",
      " [0 0 0 ... 0 0 0]\n",
      " ...\n",
      " [0 0 0 ... 0 0 0]\n",
      " [0 0 0 ... 0 0 0]\n",
      " [0 0 0 ... 0 0 0]]\n"
     ]
    }
   ],
   "source": [
    "print(pic)"
   ]
  },
  {
   "cell_type": "code",
   "execution_count": 42,
   "id": "e0d1d573",
   "metadata": {},
   "outputs": [],
   "source": [
    "# открытие картинка в отдельном окне\n",
    "cv2.imshow('image',pic)\n",
    "cv2.waitKey(0)\n",
    "cv2.destroyAllWindows()"
   ]
  },
  {
   "cell_type": "code",
   "execution_count": 43,
   "id": "d08ee455",
   "metadata": {},
   "outputs": [
    {
     "name": "stdout",
     "output_type": "stream",
     "text": [
      "(1000, 1000)\n"
     ]
    },
    {
     "data": {
      "text/plain": [
       "array([[  0,   0,   0, ...,   0,   0,   0],\n",
       "       [  0,   0,   0, ...,   0,   0,   0],\n",
       "       [  0,   0, 255, ..., 255, 255,   0],\n",
       "       ...,\n",
       "       [  0,   0, 255, ..., 255, 255,   0],\n",
       "       [  0,   0, 255, ..., 255, 255,   0],\n",
       "       [  0,   0,   0, ...,   0,   0,   0]], shape=(100, 100), dtype=uint8)"
      ]
     },
     "execution_count": 43,
     "metadata": {},
     "output_type": "execute_result"
    }
   ],
   "source": [
    "# изменение размера картинки\n",
    "# pic = pic.transpose(-1,0,1) # меняем каналы с (800, 1200, 3) на (3, 800, 1200)\n",
    "print(pic.shape)\n",
    "label_mask_real_size = cv2.resize(pic, (100, 100), interpolation=cv2.INTER_NEAREST)\n",
    "label_mask_real_size\n"
   ]
  },
  {
   "cell_type": "code",
   "execution_count": 45,
   "id": "c4063163",
   "metadata": {},
   "outputs": [
    {
     "data": {
      "text/plain": [
       "array([  0,   0, 255, 255, 255, 255, 255, 255, 255, 255, 255, 255, 255,\n",
       "       255, 255, 255, 255, 255, 255, 255, 255, 255,   0,   0, 255, 255,\n",
       "       255, 255, 255, 255, 255, 255, 255,   0,   0,   0,   0,   0,   0,\n",
       "         0,   0, 255, 255, 255, 255, 255, 255, 255, 255, 255,   0,   0,\n",
       "       255, 255, 255, 255, 255, 255,   0,   0,   0,   0,   0,   0,   0,\n",
       "         0,   0,   0,   0,   0,   0,   0,   0,   0,   0,   0,   0,   0,\n",
       "         0, 255, 255, 255, 255, 255, 255, 255, 255, 255, 255, 203, 203,\n",
       "       203, 203, 203, 203, 255, 255, 255, 255,   0], dtype=uint8)"
      ]
     },
     "execution_count": 45,
     "metadata": {},
     "output_type": "execute_result"
    }
   ],
   "source": [
    "label_mask_real_size[50]"
   ]
  },
  {
   "cell_type": "code",
   "execution_count": 46,
   "id": "597853b2",
   "metadata": {},
   "outputs": [],
   "source": [
    "# добавили агента, но он маленький совсем))))\n",
    "label_mask_real_size[50][8] = 60\n"
   ]
  },
  {
   "cell_type": "code",
   "execution_count": 47,
   "id": "9b8bd15b",
   "metadata": {},
   "outputs": [],
   "source": [
    "# смотрим измененную картинку\n",
    "res = cv2.resize(label_mask_real_size, dsize=(400,400), interpolation=cv2.INTER_CUBIC)\n",
    "# cv2.namedWindow(\"Resized\", cv2.WINDOW_NORMAL)\n",
    "cv2.imshow('image',res)\n",
    "cv2.waitKey(0)\n",
    "cv2.destroyAllWindows()"
   ]
  },
  {
   "cell_type": "code",
   "execution_count": 48,
   "id": "dd3e5773",
   "metadata": {},
   "outputs": [
    {
     "name": "stdout",
     "output_type": "stream",
     "text": [
      "[0, 255, 203, 60]\n"
     ]
    }
   ],
   "source": [
    "# проверяем значения в матрице, нужно, чтобы их не было больше, или меньше, чем нужно\n",
    "h = []\n",
    "for i in label_mask_real_size:\n",
    "    # print(set(i))\n",
    "    for _ in i: \n",
    "        if _ not in h:\n",
    "            h.append(_)\n",
    "print([int(j) for j in h])\n",
    "\n"
   ]
  },
  {
   "cell_type": "code",
   "execution_count": 49,
   "id": "9670b6ec",
   "metadata": {},
   "outputs": [
    {
     "data": {
      "image/png": "[encoded data removed]",
      "text/plain": [
       "<Figure size 640x480 with 1 Axes>"
      ]
     },
     "metadata": {},
     "output_type": "display_data"
    }
   ],
   "source": [
    "plt.imshow(label_mask_real_size)\n",
    "plt.axis('off')\n",
    "# plt.text(.01, +1.1, f'Игровое поле {pic.shape}:', ha='left', va='top',fontsize=18, transform=ax.transAxes, bbox={\"facecolor\":\"r\", \"alpha\":0.1})\n",
    "plt.show()"
   ]
  },
  {
   "cell_type": "code",
   "execution_count": 50,
   "id": "b4b77743",
   "metadata": {},
   "outputs": [
    {
     "data": {
      "text/plain": [
       "array([[  0,   0,   0, ...,   0,   0,   0],\n",
       "       [  0,   0,   0, ...,   0,   0,   0],\n",
       "       [  0,   0, 255, ..., 255, 255,   0],\n",
       "       ...,\n",
       "       [  0,   0, 255, ..., 255, 255,   0],\n",
       "       [  0,   0, 255, ..., 255, 255,   0],\n",
       "       [  0,   0,   0, ...,   0,   0,   0]], shape=(100, 100), dtype=uint8)"
      ]
     },
     "execution_count": 50,
     "metadata": {},
     "output_type": "execute_result"
    }
   ],
   "source": [
    "label_mask_real_size"
   ]
  },
  {
   "cell_type": "code",
   "execution_count": 51,
   "id": "d00c3400",
   "metadata": {},
   "outputs": [
    {
     "name": "stdout",
     "output_type": "stream",
     "text": [
      "100\n"
     ]
    }
   ],
   "source": [
    "# переводим цифры в буквы по словарю\n",
    "area = []\n",
    "dct = {0: 'H', 60: 'S', 203: 'G', 255: 'F'}\n",
    "for i in label_mask_real_size:\n",
    "    # print(f'i:{len(i)}')\n",
    "    fox = ''.join([dct[_] for _ in i])\n",
    "    # print(len(fox))\n",
    "    \n",
    "    area.append(fox)\n",
    "print(len(area))"
   ]
  },
  {
   "cell_type": "code",
   "execution_count": 52,
   "id": "c66e357b",
   "metadata": {},
   "outputs": [
    {
     "name": "stdout",
     "output_type": "stream",
     "text": [
      "['H', 'F', 'G', 'S']\n"
     ]
    }
   ],
   "source": [
    "# проверяем значения в матрице, нужно, чтобы их не было больше, или меньше, чем нужно\n",
    "h = []\n",
    "for i in area:\n",
    "    # print(set(i))\n",
    "    for _ in i: \n",
    "        if _ not in h:\n",
    "            h.append(_)\n",
    "print(h)"
   ]
  },
  {
   "cell_type": "code",
   "execution_count": 53,
   "id": "e8d81de7",
   "metadata": {},
   "outputs": [
    {
     "name": "stdout",
     "output_type": "stream",
     "text": [
      "File written successfully\n"
     ]
    }
   ],
   "source": [
    "# записываем таблицу в файл area.txt\n",
    "with open('area.txt', 'w+') as f:\n",
    "    \n",
    "    # write elements of list\n",
    "    for items in area:\n",
    "        f.write('%s\\n' %items)\n",
    "    \n",
    "    print(\"File written successfully\")"
   ]
  },
  {
   "cell_type": "markdown",
   "id": "f9f7f460",
   "metadata": {},
   "source": [
    "# ***Результирующая картинка для подачи в модель area***"
   ]
  }
 ],
 "metadata": {
  "kernelspec": {
   "display_name": "Python 3",
   "language": "python",
   "name": "python3"
  },
  "language_info": {
   "codemirror_mode": {
    "name": "ipython",
    "version": 3
   },
   "file_extension": ".py",
   "mimetype": "text/x-python",
   "name": "python",
   "nbconvert_exporter": "python",
   "pygments_lexer": "ipython3",
   "version": "3.10.16"
  }
 },
 "nbformat": 4,
 "nbformat_minor": 5
}
